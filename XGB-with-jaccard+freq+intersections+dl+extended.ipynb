{
 "cells": [
  {
   "cell_type": "markdown",
   "metadata": {},
   "source": [
    "https://www.kaggle.com/dasolmar/xgb-with-whq-jaccard/code/code"
   ]
  },
  {
   "cell_type": "code",
   "execution_count": 1,
   "metadata": {},
   "outputs": [
    {
     "name": "stderr",
     "output_type": "stream",
     "text": [
      "/Library/Frameworks/Python.framework/Versions/3.5/lib/python3.5/site-packages/nltk/decorators.py:59: DeprecationWarning: inspect.getargspec() is deprecated, use inspect.signature() instead\n",
      "  regargs, varargs, varkwargs, defaults = inspect.getargspec(func)\n"
     ]
    },
    {
     "name": "stdout",
     "output_type": "stream",
     "text": [
      "Started\n"
     ]
    }
   ],
   "source": [
    "# -*- coding: utf-8 -*-\n",
    "import numpy as np\n",
    "import pandas as pd\n",
    "import xgboost as xgb\n",
    "import datetime\n",
    "import operator\n",
    "from sklearn.cross_validation import train_test_split\n",
    "from collections import Counter\n",
    "from nltk.corpus import stopwords\n",
    "import matplotlib.pyplot as plt\n",
    "from pylab import plot, show, subplot, specgram, imshow, savefig\n",
    "\n",
    "RS = 12357\n",
    "ROUNDS = 700\n",
    "x_train_size = (526835, 6)\n",
    "x_test_size = (2345796, 3)\n",
    "\n",
    "print(\"Started\")\n",
    "np.random.seed(RS)\n",
    "input_folder = './input/'"
   ]
  },
  {
   "cell_type": "code",
   "execution_count": 14,
   "metadata": {
    "collapsed": true
   },
   "outputs": [],
   "source": [
    "df_train = pd.read_csv(input_folder + 'train.csv')\n",
    "#df_test  = pd.read_csv(input_folder + 'test.csv')\n",
    "\n",
    "#print(\"Original data: X_train: {}, X_test: {}\".format(df_train.shape, df_test.shape))"
   ]
  },
  {
   "cell_type": "code",
   "execution_count": null,
   "metadata": {
    "collapsed": true,
    "scrolled": true
   },
   "outputs": [],
   "source": [
    "from collections import Counter\n",
    "\n",
    "counter = Counter()\n",
    "\n",
    "def count_duplicates(row):\n",
    "    counter[row['question1']] += 1\n",
    "    counter[row['question2']] += 1\n",
    "    \n",
    "df_train.apply(count_duplicates, axis=1, raw=True)\n",
    "df_test.apply(count_duplicates, axis=1, raw=True)\n",
    "\n",
    "train_q1_freq = df_train['question1'].map(counter)\n",
    "train_q2_freq = df_train['question2'].map(counter)\n",
    "\n",
    "test_q1_freq = df_test['question1'].map(counter)\n",
    "test_q2_freq = df_test['question2'].map(counter)"
   ]
  },
  {
   "cell_type": "code",
   "execution_count": null,
   "metadata": {
    "collapsed": true
   },
   "outputs": [],
   "source": [
    "train_q1_freq = df_train['question1'].map(counter)\n",
    "train_q2_freq = df_train['question2'].map(counter)\n",
    "\n",
    "test_q1_freq = df_test['question1'].map(counter)\n",
    "test_q2_freq = df_test['question2'].map(counter)"
   ]
  },
  {
   "cell_type": "code",
   "execution_count": null,
   "metadata": {
    "collapsed": true
   },
   "outputs": [],
   "source": [
    "stops = set(stopwords.words(\"english\"))\n",
    "\n",
    "def create_feature_map(features):\n",
    "\toutfile = open('xgb.fmap', 'w')\n",
    "\ti = 0\n",
    "\tfor feat in features:\n",
    "\t\toutfile.write('{0}\\t{1}\\tq\\n'.format(i, feat))\n",
    "\t\ti = i + 1\n",
    "\toutfile.close()\n",
    "\n",
    "def add_word_count(x, df, word):\n",
    "\tx['q1_' + word] = df['question1'].apply(lambda x: (word in str(x).lower())*1)\n",
    "\tx['q2_' + word] = df['question2'].apply(lambda x: (word in str(x).lower())*1)\n",
    "\tx[word + '_both'] = x['q1_' + word] * x['q2_' + word]"
   ]
  },
  {
   "cell_type": "code",
   "execution_count": null,
   "metadata": {
    "collapsed": true
   },
   "outputs": [],
   "source": [
    "# build question intersection map\n",
    "\n",
    "from collections import defaultdict\n",
    "\n",
    "q_dict = defaultdict(set)\n",
    "\n",
    "def build_intersects(row):\n",
    "    q_dict[row['question1']].add(row['question2'])\n",
    "    q_dict[row['question2']].add(row['question1'])\n",
    "    \n",
    "def count_intersect(row):\n",
    "    return(len(q_dict[row['question1']].intersection(q_dict[row['question2']])))\n",
    "\n",
    "def count_intersect_l2(row):\n",
    "    set1 = set(q1 for q in q_dict[row['question1']] for q1 in q_dict[q])\n",
    "    set2 = set(q2 for q in q_dict[row['question2']] for q2 in q_dict[q])\n",
    "    return(len(set1.intersection(set2)))\n",
    "\n",
    "df_train.apply(build_intersects, axis=1, raw=True)\n",
    "#df_test.apply(build_intersects, axis=1, raw=True)"
   ]
  },
  {
   "cell_type": "code",
   "execution_count": null,
   "metadata": {
    "collapsed": true
   },
   "outputs": [],
   "source": [
    "import pickle\n",
    "\n",
    "#pickle.dump(q_dict, open('./datasets/q_intersect_dict.pkl', 'wb'))\n",
    "q_dict = pickle.load( open('./datasets/q_intersect_dict.pkl', 'rb') )"
   ]
  },
  {
   "cell_type": "code",
   "execution_count": null,
   "metadata": {
    "collapsed": true
   },
   "outputs": [],
   "source": [
    "#train_intersects = df_train.apply(count_intersect, axis=1, raw=True)\n",
    "#test_intersects = df_test.apply(count_intersect, axis=1, raw=True)\n",
    "\n",
    "#train_intersects.to_csv('./datasets/train_intersects.csv', index=False)\n",
    "#test_intersects.to_csv('./datasets/test_intersects.csv', index=False)\n",
    "\n",
    "train_intersects = pd.DataFrame.from_csv('./datasets/train_intersects.csv', header = -1)\n",
    "test_intersects = pd.DataFrame.from_csv('./datasets/test_intersects.csv', header = -1)"
   ]
  },
  {
   "cell_type": "code",
   "execution_count": null,
   "metadata": {
    "collapsed": true
   },
   "outputs": [],
   "source": [
    "train_intersects_l2 = df_train.apply(count_intersect_l2, axis=1, raw=True)\n",
    "#test_intersects_i2 = df_test.apply(count_intersect_l2, axis=1, raw=True)\n",
    "\n",
    "#train_intersects.to_csv('./datasets/train_intersects.csv', index=False)\n",
    "#test_intersects.to_csv('./datasets/test_intersects.csv', index=False)\n",
    "\n",
    "#train_intersects = pd.DataFrame.from_csv('./datasets/train_intersects.csv', header = -1)\n",
    "#test_intersects = pd.DataFrame.from_csv('./datasets/test_intersects.csv', header = -1)"
   ]
  },
  {
   "cell_type": "code",
   "execution_count": null,
   "metadata": {
    "collapsed": true
   },
   "outputs": [],
   "source": [
    "#train_intersects.shape\n",
    "#train_intersects_l2 = train_intersects_i2\n",
    "train_intersects_l2.shape"
   ]
  },
  {
   "cell_type": "code",
   "execution_count": null,
   "metadata": {
    "collapsed": true
   },
   "outputs": [],
   "source": [
    "import matplotlib.pyplot as plt\n",
    "import seaborn as sns\n",
    "%matplotlib inline\n",
    "\n",
    "temp = train_intersects.value_counts()\n",
    "sns.barplot(temp.index[:20], temp.values[:20])"
   ]
  },
  {
   "cell_type": "code",
   "execution_count": null,
   "metadata": {
    "collapsed": true
   },
   "outputs": [],
   "source": [
    "stops = set(stopwords.words(\"english\"))\n",
    "\n",
    "def count_interset_meta(row):\n",
    "    q1_set =  set([w for q in q_dict[row['question1']] for w in str(q).lower().split() if w not in stops])\n",
    "    if len(q1_set) == 0:\n",
    "        return '0:0:0:0:0:0:0:0'\n",
    "        \n",
    "    q2_set =  set([w for q in q_dict[row['question2']] for w in str(q).lower().split() if w not in stops])\n",
    "    if len(q2_set) == 0:\n",
    "        return '0:0:0:0:0:0:0:0'    \n",
    "    \n",
    "    shared_words = q1_set.intersection(q2_set)\n",
    "    shared_weights = [weights.get(w, 0) for w in shared_words]\n",
    "    q1_weights = [weights.get(w, 0) for w in q1_set]\n",
    "    q2_weights = [weights.get(w, 0) for w in q2_set]\n",
    "    total_weights = q1_weights + q1_weights    \n",
    "    \n",
    "    R1 = np.sum(shared_weights) / np.sum(total_weights) #tfidf share\n",
    "    R2 = len(shared_words) / (len(q1_set) + len(q2_set) - len(shared_words)) #share ratio\n",
    "\n",
    "    Rcosine_denominator = (np.sqrt(np.dot(q1_weights,q1_weights))*np.sqrt(np.dot(q2_weights,q2_weights)))\n",
    "    Rcosine = np.dot(shared_weights, shared_weights)/Rcosine_denominator\n",
    "    \n",
    "    return '{}:{}:{}:{}'.format(R1, R2, len(shared_words), Rcosine) "
   ]
  },
  {
   "cell_type": "code",
   "execution_count": null,
   "metadata": {
    "collapsed": true
   },
   "outputs": [],
   "source": [
    "#df_train_share_meta = df_train.apply(count_interset_meta, axis=1, raw=True)\n",
    "#df_test_share_meta = df_test.apply(count_interset_meta, axis=1, raw=True)\n",
    "\n",
    "#df_train_share_meta.to_csv('./datasets/df_train_share_meta_str.csv', index=False)\n",
    "#df_test_share_meta.to_csv('./datasets/df_test_share_meta_str.csv', index=False)\n",
    "\n",
    "df_train_share_meta = pd.DataFrame.from_csv('./datasets/df_train_share_meta_str.csv', header = -1)\n",
    "df_test_share_meta = pd.DataFrame.from_csv('./datasets/df_test_share_meta_str.csv', header = -1)"
   ]
  },
  {
   "cell_type": "code",
   "execution_count": null,
   "metadata": {
    "collapsed": true
   },
   "outputs": [],
   "source": [
    "df_train_share_meta.shape"
   ]
  },
  {
   "cell_type": "code",
   "execution_count": null,
   "metadata": {
    "collapsed": true
   },
   "outputs": [],
   "source": [
    "#train_intersects_l2.to_csv('./datasets/train_intersects_l2.csv')\n",
    "#test_intersects_l2.to_csv('./datasets/test_intersects_l2.csv')\n",
    "\n",
    "train_intersects_l2 = pd.DataFrame.from_csv('./datasets/train_intersects_l2.csv', header = -1)\n",
    "test_intersects_l2 = pd.DataFrame.from_csv('./datasets/test_intersects_l2.csv', header = -1)"
   ]
  },
  {
   "cell_type": "code",
   "execution_count": null,
   "metadata": {
    "collapsed": true
   },
   "outputs": [],
   "source": [
    "import matplotlib.pyplot as plt\n",
    "import seaborn as sns\n",
    "%matplotlib inline\n",
    "\n",
    "temp = train_intersects_l2.value_counts()\n",
    "sns.barplot(temp.index[:20], temp.values[:20])"
   ]
  },
  {
   "cell_type": "code",
   "execution_count": null,
   "metadata": {
    "collapsed": true
   },
   "outputs": [],
   "source": [
    "# If a word appears only once, we ignore it completely (likely a typo)\n",
    "# Epsilon defines a smoothing constant, which makes the effect of extremely rare words smaller\n",
    "def get_weight(count, eps=10000, min_count=2):\n",
    "\treturn 0 if count < min_count else 1 / (count + eps)\n",
    "\n",
    "def word_shares(row):\n",
    "\tq1_list = str(row['question1']).lower().split()\n",
    "\tq1 = set(q1_list)\n",
    "\tq1words = q1.difference(stops)\n",
    "\tif len(q1words) == 0:\n",
    "\t\treturn '0:0:0:0:0:0:0:0'\n",
    "        \n",
    "\tq2_list = str(row['question2']).lower().split()\n",
    "\tq2 = set(q2_list)\n",
    "\tq2words = q2.difference(stops)\n",
    "\tif len(q2words) == 0:\n",
    "\t\treturn '0:0:0:0:0:0:0:0'\n",
    "\n",
    "\twords_hamming = sum(1 for i in zip(q1_list, q2_list) if i[0]==i[1])/max(len(q1_list), len(q2_list))\n",
    "\n",
    "\tq1stops = q1.intersection(stops)\n",
    "\tq2stops = q2.intersection(stops)\n",
    "\n",
    "\tq1_2gram = set([i for i in zip(q1_list, q1_list[1:])])\n",
    "\tq2_2gram = set([i for i in zip(q2_list, q2_list[1:])])\n",
    "\n",
    "\tshared_2gram = q1_2gram.intersection(q2_2gram)\n",
    "\n",
    "\tshared_words = q1words.intersection(q2words)\n",
    "\tshared_weights = [weights.get(w, 0) for w in shared_words]\n",
    "\tq1_weights = [weights.get(w, 0) for w in q1words]\n",
    "\tq2_weights = [weights.get(w, 0) for w in q2words]\n",
    "\ttotal_weights = q1_weights + q1_weights\n",
    "\t\t\n",
    "\tR1 = np.sum(shared_weights) / np.sum(total_weights) #tfidf share\n",
    "\tR2 = len(shared_words) / (len(q1words) + len(q2words) - len(shared_words)) #count share\n",
    "\tR31 = len(q1stops) / len(q1words) #stops in q1\n",
    "\tR32 = len(q2stops) / len(q2words) #stops in q2\n",
    "\tRcosine_denominator = (np.sqrt(np.dot(q1_weights,q1_weights))*np.sqrt(np.dot(q2_weights,q2_weights)))\n",
    "\tRcosine = np.dot(shared_weights, shared_weights)/Rcosine_denominator\n",
    "\tif len(q1_2gram) + len(q2_2gram) == 0:\n",
    "\t\tR2gram = 0\n",
    "\telse:\n",
    "\t\tR2gram = len(shared_2gram) / (len(q1_2gram) + len(q2_2gram))\n",
    "\treturn '{}:{}:{}:{}:{}:{}:{}:{}'.format(R1, R2, len(shared_words), R31, R32, R2gram, Rcosine, words_hamming)\n"
   ]
  },
  {
   "cell_type": "code",
   "execution_count": null,
   "metadata": {
    "collapsed": true
   },
   "outputs": [],
   "source": [
    "train_qs = pd.Series(df_train['question1'].tolist() + df_train['question2'].tolist()).astype(str)\n",
    "words = (\" \".join(train_qs)).lower().split()\n",
    "counts = Counter(words)\n",
    "weights = {word: get_weight(count) for word, count in counts.items()}"
   ]
  },
  {
   "cell_type": "code",
   "execution_count": null,
   "metadata": {
    "collapsed": true
   },
   "outputs": [],
   "source": [
    "#df = pd.concat([df_train, df_test])\n",
    "#df['word_shares'] = df.apply(word_shares, axis=1, raw=True)\n",
    "df = pd.read_csv('./datasets/why_jaccard_features.csv')\n",
    "#df.to_csv('./datasets/why_jaccard_features.csv', index=False)"
   ]
  },
  {
   "cell_type": "code",
   "execution_count": null,
   "metadata": {
    "collapsed": true
   },
   "outputs": [],
   "source": [
    "df_train.shape #526835\n",
    "df_test.shape #2345796\n",
    "\n",
    "# df_train.shape[0] + df_test.shape[0] # 2,872,631"
   ]
  },
  {
   "cell_type": "code",
   "execution_count": null,
   "metadata": {
    "collapsed": true
   },
   "outputs": [],
   "source": [
    "def main():\n",
    "    print(\"Features processing, be patient...\")\n",
    "    \n",
    "    x = pd.DataFrame()\n",
    "\n",
    "    print('word match')\n",
    "    x['word_match']       = df['word_shares'].apply(lambda x: float(x.split(':')[0]))\n",
    "    x['word_match_2root'] = np.sqrt(x['word_match'])\n",
    "    x['tfidf_word_match'] = df['word_shares'].apply(lambda x: float(x.split(':')[1]))\n",
    "    x['shared_count']     = df['word_shares'].apply(lambda x: float(x.split(':')[2]))\n",
    "\n",
    "    print('stops1 ratio')\n",
    "    x['stops1_ratio']     = df['word_shares'].apply(lambda x: float(x.split(':')[3]))\n",
    "    x['stops2_ratio']     = df['word_shares'].apply(lambda x: float(x.split(':')[4]))\n",
    "    x['shared_2gram']     = df['word_shares'].apply(lambda x: float(x.split(':')[5]))\n",
    "    x['cosine']           = df['word_shares'].apply(lambda x: float(x.split(':')[6]))\n",
    "    x['words_hamming']    = df['word_shares'].apply(lambda x: float(x.split(':')[7]))\n",
    "    x['diff_stops_r']     = x['stops1_ratio'] - x['stops2_ratio']\n",
    "\n",
    "    print('lengths')\n",
    "    x['len_q1'] = df['question1'].apply(lambda x: len(str(x)))\n",
    "    x['len_q2'] = df['question2'].apply(lambda x: len(str(x)))\n",
    "    x['diff_len'] = x['len_q1'] - x['len_q2']\n",
    "\n",
    "    print('cap counts')\n",
    "    x['caps_count_q1'] = df['question1'].apply(lambda x:sum(1 for i in str(x) if i.isupper()))\n",
    "    x['caps_count_q2'] = df['question2'].apply(lambda x:sum(1 for i in str(x) if i.isupper()))\n",
    "    x['diff_caps'] = x['caps_count_q1'] - x['caps_count_q2']\n",
    "\n",
    "    print('len chart')\n",
    "    x['len_char_q1'] = df['question1'].apply(lambda x: len(str(x).replace(' ', '')))\n",
    "    x['len_char_q2'] = df['question2'].apply(lambda x: len(str(x).replace(' ', '')))\n",
    "    x['diff_len_char'] = x['len_char_q1'] - x['len_char_q2']\n",
    "\n",
    "    print('len word')\n",
    "    x['len_word_q1'] = df['question1'].apply(lambda x: len(str(x).split()))\n",
    "    x['len_word_q2'] = df['question2'].apply(lambda x: len(str(x).split()))\n",
    "    x['diff_len_word'] = x['len_word_q1'] - x['len_word_q2']\n",
    "\n",
    "    print('avg word len')\n",
    "    x['avg_world_len1'] = x['len_char_q1'] / x['len_word_q1']\n",
    "    x['avg_world_len2'] = x['len_char_q2'] / x['len_word_q2']\n",
    "    x['diff_avg_word'] = x['avg_world_len1'] - x['avg_world_len2']\n",
    "    \n",
    "    print('exact same')\n",
    "    x['exactly_same'] = (df['question1'] == df['question2']).astype(int)\n",
    "    x['duplicated'] = df.duplicated(['question1','question2']).astype(int)\n",
    "    add_word_count(x, df,'how')\n",
    "    add_word_count(x, df,'what')\n",
    "    add_word_count(x, df,'which')\n",
    "    add_word_count(x, df,'who')\n",
    "    add_word_count(x, df,'where')\n",
    "    add_word_count(x, df,'when')\n",
    "    add_word_count(x, df,'why')\n",
    "    print('features done...')\n",
    "    \n",
    "    print(x.columns)\n",
    "    #print(x.describe())\n",
    "\n",
    "    print(\"Saving processed list...\")\n",
    "    x.to_csv('./datasets/why_jaccard_features_processed.csv', index=False)\n",
    "    \n",
    "    feature_names = list(x.columns.values)\n",
    "    create_feature_map(feature_names)\n",
    "    print(\"Features: {}\".format(feature_names))\n",
    "    \n",
    "    #x_train = x[:df_train.shape[0]]\n",
    "    #x_test  = x[df_train.shape[0]:]\n",
    "    #y_train = df_train['is_duplicate'].values\n",
    "    #del x, df_train\n",
    "    #return x_train, x_test, y_train"
   ]
  },
  {
   "cell_type": "code",
   "execution_count": null,
   "metadata": {
    "collapsed": true
   },
   "outputs": [],
   "source": [
    "main()\n",
    "print(\"Done.\")"
   ]
  },
  {
   "cell_type": "code",
   "execution_count": null,
   "metadata": {
    "collapsed": true
   },
   "outputs": [],
   "source": [
    "df.shape"
   ]
  },
  {
   "cell_type": "code",
   "execution_count": null,
   "metadata": {
    "collapsed": true
   },
   "outputs": [],
   "source": [
    "#df = pd.read_csv('./datasets/why_jaccard_features_processed.csv', header=0)\n",
    "x = df\n",
    "\n",
    "x['q1_freq'] = train_q1_freq.tolist() + test_q1_freq.tolist()\n",
    "x['q2_freq'] = train_q2_freq.tolist() + test_q2_freq.tolist()\n",
    "\n",
    "x_train = df[:x_train_size[0]]\n",
    "x_test  = df[x_train_size[0]:]\n",
    "y_train = df_train['is_duplicate'].values\n",
    "#x.shape"
   ]
  },
  {
   "cell_type": "code",
   "execution_count": null,
   "metadata": {
    "collapsed": true
   },
   "outputs": [],
   "source": [
    "feature_names = list(x.columns.values)\n",
    "create_feature_map(feature_names)\n",
    "print(\"Features: {}\".format(feature_names))"
   ]
  },
  {
   "cell_type": "code",
   "execution_count": null,
   "metadata": {
    "collapsed": true
   },
   "outputs": [],
   "source": [
    "#x_test[x_test['q1_freq'].isnull()].head()\n",
    "#x_test['q1_freq'].tail()\n",
    "#x_train['q1_freq'].isnull().sum()"
   ]
  },
  {
   "cell_type": "code",
   "execution_count": null,
   "metadata": {
    "collapsed": true
   },
   "outputs": [],
   "source": [
    "x_train.shape"
   ]
  },
  {
   "cell_type": "code",
   "execution_count": null,
   "metadata": {
    "collapsed": true
   },
   "outputs": [],
   "source": [
    "x_train.to_csv('./datasets/why_jaccard_x_train.csv', index=False)\n",
    "x_test.to_csv('./datasets/why_jaccard_x_test.csv', index=False)"
   ]
  },
  {
   "cell_type": "code",
   "execution_count": null,
   "metadata": {
    "collapsed": true
   },
   "outputs": [],
   "source": [
    "x_train = pd.read_csv('./datasets/why_jaccard_x_train.csv', index=False)\n",
    "x_test = pd.read_csv('./datasets/why_jaccard_x_test.csv', index=False)\n",
    "y_train = df_train['is_duplicate'].values"
   ]
  },
  {
   "cell_type": "code",
   "execution_count": null,
   "metadata": {
    "collapsed": true
   },
   "outputs": [],
   "source": [
    "x_train.drop('Unnamed: 0', axis=1, inplace=True)\n",
    "x_test.drop('Unnamed: 0', axis=1, inplace=True)\n",
    "x_train.head()"
   ]
  },
  {
   "cell_type": "code",
   "execution_count": null,
   "metadata": {
    "collapsed": true
   },
   "outputs": [],
   "source": [
    "#x_train = x_train.reset_index()\n",
    "\n",
    "x_train['q_intersect'] = train_intersects[1].tolist()\n",
    "x_test['q_intersect'] = test_intersects[1].tolist()\n",
    "\n",
    "print(x_test.shape, test_intersects.shape)\n",
    "print(x_train.shape, train_intersects.shape)\n",
    "\n",
    "#x_train.drop('index', axis=1, inplace=True)\n",
    "#x_train.head()\n",
    "#train_intersects[1].shape"
   ]
  },
  {
   "cell_type": "code",
   "execution_count": null,
   "metadata": {
    "collapsed": true
   },
   "outputs": [],
   "source": [
    "train_intersects_l2 = train_intersects_l2.reset_index()\n",
    "test_intersects_l2 = test_intersects_l2.reset_index()\n",
    "\n",
    "\n",
    "x_train['q_intersect_l2'] = train_intersects_l2[0]\n",
    "x_test['q_intersect_l2'] = test_intersects_l2[0]\n",
    "#train_intersects_l2.shape\n",
    "#train_intersects_l2\n",
    "#x_train['q_intersect_l2']\n",
    "\n",
    "x_train.head()"
   ]
  },
  {
   "cell_type": "code",
   "execution_count": null,
   "metadata": {
    "collapsed": true
   },
   "outputs": [],
   "source": [
    "x_train.to_csv('./datasets/why_jaccard_x_intersect_train.csv', index=False)\n",
    "x_test.to_csv('./datasets/why_jaccard_x_intersect_test.csv', index=False)"
   ]
  },
  {
   "cell_type": "code",
   "execution_count": null,
   "metadata": {
    "collapsed": true
   },
   "outputs": [],
   "source": [
    "x_train = pd.DataFrame.from_csv('./datasets/why_jaccard_x_intersect_train.csv', index_col=-1)\n",
    "x_test = pd.DataFrame.from_csv('./datasets/why_jaccard_x_intersect_test.csv', index_col=-1)\n",
    "x_train = x_train.reset_index()\n",
    "x_test = x_test.reset_index()\n",
    "y_train = df_train['is_duplicate'].values"
   ]
  },
  {
   "cell_type": "code",
   "execution_count": null,
   "metadata": {
    "collapsed": true
   },
   "outputs": [],
   "source": [
    "x_train.head()\n",
    "#df_train_share_meta.shape\n",
    "#x_train = x_train.reset_index()\n",
    "#x_train = x_train.drop('index')\n",
    "#x_train.drop('index', axis=1, inplace=True)\n",
    "\n",
    "#x_train['q_intersect_tfidf'] = df_train_share_meta.apply(lambda x: float(x.split(':')[0]))\n",
    "#col = df_train_share_meta.apply(lambda x: float(x.split(':')[0]))\n",
    "#col = col.reset_index()\n",
    "#col.drop('level_0', axis=1, inplace=True)\n",
    "#x_train['q_intersect_tfidf'] = col"
   ]
  },
  {
   "cell_type": "code",
   "execution_count": null,
   "metadata": {
    "collapsed": true
   },
   "outputs": [],
   "source": [
    "df_train_share_meta = df_train_share_meta.reset_index()\n",
    "df_test_share_meta = df_test_share_meta.reset_index()\n",
    "\n",
    "x_train['q_intersect_tfidf'] = df_train_share_meta[0].apply(lambda x: float(x.split(':')[0])).reset_index()[0]\n",
    "x_train['q_intersect_shared_ratio'] = df_train_share_meta[0].apply(lambda x: float(x.split(':')[1])).reset_index()[0]\n",
    "x_train['q_intersect_shared_count'] = df_train_share_meta[0].apply(lambda x: float(x.split(':')[2])).reset_index()[0]\n",
    "x_train['q_intersect_shared_cosine'] = df_train_share_meta[0].apply(lambda x: float(x.split(':')[3])).reset_index()[0]\n",
    "\n",
    "x_test['q_intersect_tfidf'] = df_test_share_meta[0].apply(lambda x: float(x.split(':')[0])).reset_index()[0]\n",
    "x_test['q_intersect_shared_ratio'] = df_test_share_meta[0].apply(lambda x: float(x.split(':')[1])).reset_index()[0]\n",
    "x_test['q_intersect_shared_count'] = df_test_share_meta[0].apply(lambda x: float(x.split(':')[2])).reset_index()[0]\n",
    "x_test['q_intersect_shared_cosine'] = df_test_share_meta[0].apply(lambda x: float(x.split(':')[3])).reset_index()[0]"
   ]
  },
  {
   "cell_type": "code",
   "execution_count": null,
   "metadata": {
    "collapsed": true
   },
   "outputs": [],
   "source": [
    "#x_train.to_csv('./datasets/why_jaccard_x_intersect_train_extended.csv')\n",
    "#x_test.to_csv('./datasets/why_jaccard_x_intersect_test_extended.csv')\n",
    "\n",
    "x_train = pd.DataFrame.from_csv('./datasets/why_jaccard_x_intersect_train_extended.csv')\n",
    "y_train = df_train['is_duplicate'].values\n",
    "#x_test = pd.DataFrame.from_csv('./datasets/why_jaccard_x_intersect_test_extended.csv')"
   ]
  },
  {
   "cell_type": "code",
   "execution_count": null,
   "metadata": {
    "collapsed": true
   },
   "outputs": [],
   "source": [
    "# load Abhishek features\n",
    "xb_feats = ['braycurtis_distance', 'canberra_distance', 'cityblock_distance', 'common_words', 'cosine_distance', 'euclidean_distance', 'fuzz_WRatio', 'fuzz_partial_ratio', 'fuzz_partial_token_set_ratio', 'fuzz_partial_token_sort_ratio', 'fuzz_qratio', 'fuzz_token_set_ratio', 'fuzz_token_sort_ratio', 'jaccard_distance', 'kur_q1vec', 'minkowski_distance', 'norm_wmd', 'skew_q1vec', 'skew_q2vec', 'wmd']\n",
    "\n",
    "xb_train = pd.DataFrame.from_csv('./input/Quora/train_features.csv', encoding=\"ISO-8859-1\")\n",
    "xb_train = xb_train.reset_index()\n",
    "xb_train = xb_train.loc[:, xb_feats]"
   ]
  },
  {
   "cell_type": "code",
   "execution_count": null,
   "metadata": {
    "collapsed": true
   },
   "outputs": [],
   "source": [
    "# load Abhishek features\n",
    "xb_feats = ['braycurtis_distance', 'canberra_distance', 'cityblock_distance', 'common_words', 'cosine_distance', 'euclidean_distance', 'fuzz_WRatio', 'fuzz_partial_ratio', 'fuzz_partial_token_set_ratio', 'fuzz_partial_token_sort_ratio', 'fuzz_qratio', 'fuzz_token_set_ratio', 'fuzz_token_sort_ratio', 'jaccard_distance', 'kur_q1vec', 'minkowski_distance', 'norm_wmd', 'skew_q1vec', 'skew_q2vec', 'wmd']\n",
    "\n",
    "xb_test = pd.DataFrame.from_csv('./input/Quora/test_features.csv', encoding=\"ISO-8859-1\")\n",
    "xb_test = xb_test.reset_index()\n",
    "xb_test = xb_test.loc[:, xb_feats]"
   ]
  },
  {
   "cell_type": "code",
   "execution_count": null,
   "metadata": {
    "collapsed": true
   },
   "outputs": [],
   "source": [
    "#print(x_train.shape, xb_train.shape)\n",
    "#x_test.shape\n",
    "#df_test_share_meta.shape\n",
    "#df_train_share_meta.apply(lambda x: float(x.split(':')[0])).shape\n",
    "#x_train[x_train.duplicated()].shape\n",
    "#x_train[x_train.duplicated()].head()\n",
    "#df_train_share_meta.head()\n",
    "#df_train_share_meta.apply(lambda x: str(x).split(':'))\n",
    "#x_train.loc[:10, ['q_intersect', 'shared_count']]\n",
    "#xb_train.loc[:10, ['common_words']]\n",
    "\n",
    "x_train = pd.concat([x_train, xb_train], axis=1)\n",
    "del xb_train\n",
    "x_train.shape"
   ]
  },
  {
   "cell_type": "code",
   "execution_count": null,
   "metadata": {
    "collapsed": true
   },
   "outputs": [],
   "source": [
    "x_test = pd.concat([x_test, xb_test], axis=1)\n",
    "del xb_test\n",
    "x_test.shape"
   ]
  },
  {
   "cell_type": "code",
   "execution_count": null,
   "metadata": {
    "collapsed": true
   },
   "outputs": [],
   "source": [
    "#x_train.to_csv('./datasets/ab_train_2.csv')\n",
    "#x_test.to_csv('./datasets/ab_test_2.csv')\n",
    "\n",
    "x_train = pd.DataFrame.from_csv('./datasets/ab_train_2.csv').reset_index(drop=['index'])\n",
    "#x_test = pd.DataFrame.from_csv('./datasets/ab_test_2.csv').reset_index(drop=['index'])"
   ]
  },
  {
   "cell_type": "code",
   "execution_count": null,
   "metadata": {
    "collapsed": true
   },
   "outputs": [],
   "source": [
    "x_train_extra = pd.read_csv('./datasets/ab_freq_train.csv')\n",
    "x_train_extra = x_train_extra.drop('Unnamed: 0', axis=1).reset_index(drop=['index'])\n",
    "x_train_extra.rename(columns={\"word_match\": \"word_match_sum\"}, inplace=True)\n",
    "x_train_extra.columns.values\n",
    "\n",
    "#x_test_extra = pd.read_csv('./datasets/ab_freq_test.csv')\n",
    "#x_test_extra = x_test_extra.drop('Unnamed: 0', axis=1).reset_index(drop=['index'])\n",
    "#x_test_extra.rename(columns={\"word_match\": \"word_match_sum\"}, inplace=True)\n",
    "#x_test_extra.columns.values\n",
    "\n",
    "x_train = pd.concat([x_train, x_train_extra], axis=1)\n",
    "y_train = df_train['is_duplicate'].values\n",
    "#x_test = pd.concat([x_test, x_test_extra], axis=1)\n",
    "\n",
    "x_train.to_csv('./datasets/ab_nlp_92_train.csv')\n",
    "#x_test.to_csv('./datasets/ab_nlp_92_test.csv')\n",
    "\n",
    "del x_train_extra\n",
    "del x_test_extra"
   ]
  },
  {
   "cell_type": "code",
   "execution_count": 2,
   "metadata": {
    "collapsed": true
   },
   "outputs": [],
   "source": [
    "x_train = pd.DataFrame.from_csv('./datasets/ab_nlp_92_train.csv').reset_index(drop=['index'])\n",
    "#x_test = pd.DataFrame.from_csv('./datasets/ab_nlp_92_test.csv').reset_index(drop=['index'])\n",
    "#y_train = df_train['is_duplicate'].values"
   ]
  },
  {
   "cell_type": "code",
   "execution_count": 5,
   "metadata": {
    "collapsed": true
   },
   "outputs": [],
   "source": [
    "#x_train_spacy = pd.DataFrame.from_csv('./datasets/x_train_spacy.csv').reset_index(drop=['index'])\n",
    "x_test_spacy = pd.read_csv('./datasets/x_test_spacy.csv').reset_index(drop=['index'])"
   ]
  },
  {
   "cell_type": "code",
   "execution_count": 6,
   "metadata": {},
   "outputs": [
    {
     "ename": "NameError",
     "evalue": "name 'x_train' is not defined",
     "output_type": "error",
     "traceback": [
      "\u001b[0;31m---------------------------------------------------------------------------\u001b[0m",
      "\u001b[0;31mNameError\u001b[0m                                 Traceback (most recent call last)",
      "\u001b[0;32m<ipython-input-6-8757251147a8>\u001b[0m in \u001b[0;36m<module>\u001b[0;34m()\u001b[0m\n\u001b[1;32m     12\u001b[0m \u001b[0;31m#x_train.shape\u001b[0m\u001b[0;34m\u001b[0m\u001b[0;34m\u001b[0m\u001b[0m\n\u001b[1;32m     13\u001b[0m \u001b[0;34m\u001b[0m\u001b[0m\n\u001b[0;32m---> 14\u001b[0;31m \u001b[0mx_train\u001b[0m\u001b[0;34m.\u001b[0m\u001b[0mshape\u001b[0m\u001b[0;34m\u001b[0m\u001b[0m\n\u001b[0m\u001b[1;32m     15\u001b[0m \u001b[0;31m#x_train_spacy.shape\u001b[0m\u001b[0;34m\u001b[0m\u001b[0;34m\u001b[0m\u001b[0m\n",
      "\u001b[0;31mNameError\u001b[0m: name 'x_train' is not defined"
     ]
    }
   ],
   "source": [
    "#x_train_kcores = pd.read_csv('./datasets/max_kcores_train.csv').reset_index(drop=['index'])\n",
    "x_test_kcores = pd.read_csv('./datasets/max_kcores_test.csv').reset_index(drop=['index', 'Unnamed: 0'])\n",
    "\n",
    "#x_train = pd.concat([x_train, x_train_kcores, x_train_spacy], axis=1)\n",
    "x_test = pd.concat([x_test, x_test_kcores, x_test_spacy], axis=1)\n",
    "x_test.drop('Unnamed: 0', inplace=True, axis=1)\n",
    "del x_test_spacy, x_test_kcores\n",
    "x_test.drop('Unnamed: 0', inplace=True, axis=1)\n",
    "\n",
    "#x_train.tail()\n",
    "#x_train_com.columns.values\n",
    "#x_train.columns.values\n",
    "#x_train_kcores.tail()\n",
    "#x_train.shape\n",
    "\n",
    "x_train.shape\n",
    "#x_train_spacy.shape"
   ]
  },
  {
   "cell_type": "code",
   "execution_count": 4,
   "metadata": {},
   "outputs": [
    {
     "data": {
      "text/plain": [
       "array(['word_match', 'word_match_2root', 'tfidf_word_match',\n",
       "       'shared_count', 'stops1_ratio', 'stops2_ratio', 'shared_2gram',\n",
       "       'cosine', 'words_hamming', 'diff_stops_r', 'len_q1', 'len_q2',\n",
       "       'diff_len', 'caps_count_q1', 'caps_count_q2', 'diff_caps',\n",
       "       'len_char_q1', 'len_char_q2', 'diff_len_char', 'len_word_q1',\n",
       "       'len_word_q2', 'diff_len_word', 'avg_world_len1', 'avg_world_len2',\n",
       "       'diff_avg_word', 'exactly_same', 'duplicated', 'q1_how', 'q2_how',\n",
       "       'how_both', 'q1_what', 'q2_what', 'what_both', 'q1_which',\n",
       "       'q2_which', 'which_both', 'q1_who', 'q2_who', 'who_both',\n",
       "       'q1_where', 'q2_where', 'where_both', 'q1_when', 'q2_when',\n",
       "       'when_both', 'q1_why', 'q2_why', 'why_both', 'q1_freq', 'q2_freq',\n",
       "       'q_intersect', 'q_intersect_l2', 'q_intersect_tfidf',\n",
       "       'q_intersect_shared_ratio', 'q_intersect_shared_count',\n",
       "       'q_intersect_shared_cosine', 'braycurtis_distance',\n",
       "       'canberra_distance', 'cityblock_distance', 'common_words',\n",
       "       'cosine_distance', 'euclidean_distance', 'fuzz_WRatio',\n",
       "       'fuzz_partial_ratio', 'fuzz_partial_token_set_ratio',\n",
       "       'fuzz_partial_token_sort_ratio', 'fuzz_qratio',\n",
       "       'fuzz_token_set_ratio', 'fuzz_token_sort_ratio', 'jaccard_distance',\n",
       "       'kur_q1vec', 'minkowski_distance', 'norm_wmd', 'skew_q1vec',\n",
       "       'skew_q2vec', 'wmd', 'word_match_sum', 'tfidf_wm', 'tfidf_wm_stops',\n",
       "       'jaccard', 'wc_diff', 'wc_ratio', 'wc_diff_unique',\n",
       "       'wc_ratio_unique', 'wc_diff_unq_stop', 'wc_ratio_unique_stop',\n",
       "       'same_start', 'char_diff', 'char_diff_unq_stop',\n",
       "       'total_unique_words', 'total_unq_words_stop', 'char_ratio'], dtype=object)"
      ]
     },
     "execution_count": 4,
     "metadata": {},
     "output_type": "execute_result"
    }
   ],
   "source": [
    "x_train.columns.values"
   ]
  },
  {
   "cell_type": "markdown",
   "metadata": {},
   "source": [
    "-----------------\n",
    "\n",
    "-----------------\n",
    "## Training\n",
    "\n"
   ]
  },
  {
   "cell_type": "code",
   "execution_count": null,
   "metadata": {
    "collapsed": true
   },
   "outputs": [],
   "source": [
    "if 1: # Now we oversample the negative class - on your own risk of overfitting!\n",
    "\tpos_train = x_train[y_train == 1]\n",
    "\tneg_train = x_train[y_train == 0]\n",
    "\n",
    "\tprint(\"Oversampling started for proportion: {}\".format(len(pos_train) / (len(pos_train) + len(neg_train))))\n",
    "\tp = 0.165\n",
    "\tscale = ((len(pos_train) / (len(pos_train) + len(neg_train))) / p) - 1\n",
    "\twhile scale > 1:\n",
    "\tM\tneg_train = pd.concat([neg_train, neg_train])\n",
    "\t\tscale -=1\n",
    "\tneg_train = pd.concat([neg_train, neg_train[:int(scale * len(neg_train))]])\n",
    "\tprint(\"Oversampling done, new proportion: {}\".format(len(pos_train) / (len(pos_train) + len(neg_train))))\n",
    "\n",
    "\tx_train = pd.concat([pos_train, neg_train])\n",
    "\ty_train = (np.zeros(len(pos_train)) + 1).tolist() + np.zeros(len(neg_train)).tolist()\n",
    "\tdel pos_train, neg_train"
   ]
  },
  {
   "cell_type": "code",
   "execution_count": 2,
   "metadata": {
    "collapsed": true
   },
   "outputs": [],
   "source": [
    "def train_xgb(x_train, x_val, y_train, y_val, params):\n",
    "\tprint(\"Will train XGB for {} rounds, RandomSeed: {}\".format(ROUNDS, RS))\n",
    "\n",
    "\txg_train = xgb.DMatrix(x_train, label=y_train)\n",
    "\txg_val = xgb.DMatrix(x_val, label=y_val)\n",
    "\n",
    "\twatchlist  = [(xg_train,'train'), (xg_val,'eval')]\n",
    "\treturn xgb.train(params, xg_train, ROUNDS, watchlist), xg_train, xg_val\n",
    "\n",
    "def predict_xgb(bst, x_test):\n",
    "\treturn bst.predict(xgb.DMatrix(x_test))"
   ]
  },
  {
   "cell_type": "code",
   "execution_count": null,
   "metadata": {
    "collapsed": true
   },
   "outputs": [],
   "source": [
    "x_train, x_valid, y_train, y_valid = train_test_split(x_train, y_train, test_size=0.05, random_state=RS)\n",
    "\n",
    "print(\"Train ratio: {}, Val ratio: {}\".format(sum(y_train)/len(y_train), sum(y_valid)/len(y_valid)))"
   ]
  },
  {
   "cell_type": "code",
   "execution_count": null,
   "metadata": {
    "collapsed": true,
    "scrolled": true
   },
   "outputs": [],
   "source": [
    "params = {}\n",
    "params['objective'] = 'binary:logistic'\n",
    "params['eval_metric'] = 'logloss'\n",
    "params['eta'] = 0.11\n",
    "params['max_depth'] = 5\n",
    "params['silent'] = 1\n",
    "params['seed'] = RS\n",
    "\n",
    "print(\"Training data: X_train: {}, Y_train: {}\".format(x_train.shape, len(y_train)))\n",
    "bst, xg_train, xg_val = train_xgb(x_train, x_valid, y_train, y_valid, params)"
   ]
  },
  {
   "cell_type": "code",
   "execution_count": null,
   "metadata": {
    "collapsed": true
   },
   "outputs": [],
   "source": [
    "p_train = bst.predict(xg_train)\n",
    "p_val = bst.predict(xg_val)\n",
    "\n",
    "val_prec = sum((p_val > 0.5) == y_valid)/len(y_valid)\n",
    "train_prec = sum((p_train > 0.5) == y_train)/len(p_train)\n",
    "\n",
    "print(\"Training accuracy: {}, Validation accuracy: {}\".format(train_prec, val_prec))"
   ]
  },
  {
   "cell_type": "code",
   "execution_count": 3,
   "metadata": {
    "collapsed": true
   },
   "outputs": [],
   "source": [
    "import pickle\n",
    "\n",
    "#pickle.dump(bst, open('./models/models_spacy_sim_' + str(ROUNDS) + '.pkl', 'wb'))\n",
    "bst = pickle.load( open('./models/models_spacy_sim_' + str(ROUNDS) + '.pkl', 'rb') )"
   ]
  },
  {
   "cell_type": "code",
   "execution_count": 15,
   "metadata": {},
   "outputs": [
    {
     "name": "stdout",
     "output_type": "stream",
     "text": [
      "predicting...\n",
      "Writing output...\n"
     ]
    }
   ],
   "source": [
    "print(\"predicting...\")\n",
    "preds = predict_xgb(bst, x_test)\n",
    "\n",
    "print(\"Writing output...\")\n",
    "sub = pd.DataFrame()\n",
    "sub['test_id'] = df_test['test_id']\n",
    "sub['is_duplicate'] = preds\n",
    "sub.to_csv(\"xgb_seed{}_ab_nlp_n{}.csv\".format(RS, ROUNDS), index=False)"
   ]
  },
  {
   "cell_type": "code",
   "execution_count": 18,
   "metadata": {
    "scrolled": true
   },
   "outputs": [
    {
     "name": "stdout",
     "output_type": "stream",
     "text": [
      "Features importances...\n",
      "[('word_match_2root', 1), ('where_both', 6), ('when_both', 10), ('q2_where', 11), ('q1_when', 15), ('who_both', 16), ('euclidean_distance', 17), ('q1_who', 17), ('which_both', 19), ('q2_who', 20), ('q1_where', 21), ('q2_when', 22), ('q2_which', 28), ('what_both', 34), ('why_both', 35), ('how_both', 36), ('diff_len_word', 41), ('q2_why', 44), ('wc_diff', 47), ('q1_how', 49), ('q1_why', 50), ('q2_how', 53), ('wc_diff_unique', 53), ('q1_which', 55), ('q2_what', 63), ('wc_diff_unq_stop', 65), ('diff_len_char', 78), ('shared_count', 78), ('same_start', 81), ('q1_what', 87), ('diff_len', 97), ('common_words', 110), ('len_word_q2', 134), ('cityblock_distance', 143), ('wc_ratio', 146), ('len_word_q1', 148), ('wc_ratio_unique_stop', 149), ('wc_ratio_unique', 155), ('caps_count_q2', 158), ('char_diff', 166), ('caps_count_q1', 171), ('len_char_q2', 176), ('minkowski_distance', 182), ('fuzz_WRatio', 184), ('total_unique_words', 188), ('len_q1', 189), ('len_q2', 193), ('char_diff_unq_stop', 198), ('diff_caps', 199), ('total_unq_words_stop', 201), ('braycurtis_distance', 204), ('len_char_q1', 212), ('canberra_distance', 226), ('char_ratio', 228), ('stops1_ratio', 244), ('stops2_ratio', 250), ('cosine_distance', 254), ('fuzz_partial_token_sort_ratio', 268), ('q1_freq', 270), ('diff_stops_r', 274), ('fuzz_qratio', 300), ('tfidf_wm_stops', 308), ('jaccard', 309), ('wmd', 310), ('words_hamming', 322), ('word_match', 336), ('q_intersect_shared_count', 345), ('fuzz_token_set_ratio', 346), ('qid1_max_kcore', 357), ('diff_avg_word', 376), ('shared_2gram', 379), ('tfidf_word_match', 381), ('qid2_max_kcore', 383), ('q2_freq', 410), ('fuzz_token_sort_ratio', 410), ('avg_world_len2', 422), ('avg_world_len1', 423), ('q_intersect', 425), ('skew_q2vec', 434), ('norm_wmd', 437), ('fuzz_partial_ratio', 449), ('cosine', 454), ('skew_q1vec', 458), ('q_intersect_l2', 486), ('q_intersect_tfidf', 501), ('q_intersect_shared_ratio', 514), ('kur_q1vec', 522), ('q_intersect_shared_cosine', 568), ('spacy_sim', 658), ('tfidf_wm', 784)]\n"
     ]
    },
    {
     "data": {
      "image/png": "[encoded data removed]",
      "text/plain": [
       "<matplotlib.figure.Figure at 0x7f78e1f65908>"
      ]
     },
     "metadata": {},
     "output_type": "display_data"
    }
   ],
   "source": [
    "%matplotlib inline\n",
    "\n",
    "print(\"Features importances...\")\n",
    "importance = bst.get_fscore()\n",
    "importance = sorted(importance.items(), key=operator.itemgetter(1))\n",
    "ft = pd.DataFrame(importance, columns=['feature', 'fscore'])\n",
    "print(importance)\n",
    "\n",
    "ft.plot(kind='barh', x='feature', y='fscore', legend=False, figsize=(10, 25))\n",
    "plt.gcf().savefig('features_importance.png')"
   ]
  },
  {
   "cell_type": "markdown",
   "metadata": {},
   "source": [
    "### Logloss\n",
    "\n",
    "#### Iteration 200\n",
    "\n",
    "* With freq ~ XGB depth 9 - train-error:0.099994\teval-error:0.109187 | Training accuracy: 0.9000060058857681, Validation accuracy: 0.9108810198753984 | **0.22 on LB**\n",
    "\n",
    "#### Iteration 315\n",
    " \n",
    "* With freq - [314]\ttrain-logloss:0.239994\teval-logloss:0.246721 **(0.21956 on LB)**\n",
    "* Without freq - [314]\ttrain-logloss:0.312187\teval-logloss:0.319391\n",
    "\n",
    "#### iteration 350\n",
    "\n",
    "* With intersect l2 - train-logloss:0.18714\teval-logloss:0.194974 \n",
    "\n",
    "* With intersect - [349]\ttrain-logloss:0.187006\teval-logloss:0.194715 | Training accuracy: 0.921968923517218, Validation accuracy: 0.9198718770019219 **(0.17036 on LB)**\n",
    "* With freq - [349]\ttrain-logloss:0.238551\teval-logloss:0.245807 **(0.21543 on LB)**\n",
    "\n",
    "#### iteration 380\n",
    "\n",
    "* With freq - [379]\ttrain-logloss:0.237033\teval-logloss:0.244844 **(0.21524 on LB)**\n",
    "* With 0.05 split - [379]\ttrain-logloss:0.238077\teval-logloss:0.246341\n",
    "* [379]\ttrain-logloss:0.235721\teval-logloss:0.246734 | Training accuracy: 0.895017116774439, Validation accuracy: 0.9108810198753984\n",
    "\n",
    "#### iteration 400\n",
    "\n",
    "* jaccard features + freq - [399]\ttrain-error:0.086034\teval-error:0.102852 | Training accuracy: 0.9139656863726452, Validation accuracy: 0.9108810198753984\n",
    "\n",
    "#### iteration 450\n",
    "* With level 2 intersection counts - Training accuracy: 0.9238988969075919, Validation accuracy: 0.9213581037796285\n",
    "* Training accuracy: 0.9232420855581076, Validation accuracy: 0.9205637411915438 **LB 0.16956**\n",
    "* [449]\ttrain-error:0.086919\teval-error:0.101089 | Training accuracy: 0.9130810656258387, Validation accuracy: 0.8989109545163357 **LB: 0.22403**\n",
    "\n",
    "#### iteration 550\n",
    "\n",
    "* With level 2 intersection counts - [549]\ttrain-logloss:0.180859\teval-logloss:0.191727 | Training accuracy: 0.9247040640033664, Validation accuracy: 0.9213837283792441 **(0.16748 on LB)**\n",
    "\n",
    "#### iteration 600\n",
    "* [599]\t**Abhishek + my data + extended 16 + kcores** - train-logloss:0.153991\teval-logloss:0.167997 | Training accuracy: 0.9360249561339032, Validation accuracy: 0.9307879564381807 **LB 0.15009**\n",
    "\n",
    "\n",
    "#### iteration 700\n",
    "\n",
    "* (5/31) - **Abhishek + my data + extended 16 + kcores + spacy similarity** [699]\ttrain-logloss:0.149663\teval-logloss:0.1654 - Training accuracy: 0.9380385482176405, Validation accuracy: 0.9318129404228059\n",
    "* (5/28) - **Abhishek + my data + extended 16 + kcores** - [699]\ttrain-logloss:0.150528\teval-logloss:0.166323 | Training accuracy: 0.9375840401585518, Validation accuracy: 0.9317104420243434 - **LB 0.15004**\n",
    "\n",
    "\n",
    "#### iteration 800\n",
    "\n",
    "* (5/28) - **Abhishek + my data + extended 16 + kcores** - **LB 0.15013**\n",
    "* (5/28) - **Abhishek + my data + extended 16** - [799]\ttrain-logloss:0.151459\teval-logloss:0.170253 | Training accuracy: 0.9373749934251431, Validation accuracy: 0.9306085842408712\n",
    "* (5/28) - **Abhishek + my data** - [799]\ttrain-logloss:0.154675\teval-logloss:0.172463 | Training accuracy: 0.936066765480585, Validation accuracy: 0.9293529788597054 **(LB 0.15753)**\n",
    "* (05/27) - Without enriched data - [799]\ttrain-logloss:0.17021\teval-logloss:0.185971\n",
    "* (05/26) - with enriched data - [799]\ttrain-logloss:0.169883\teval-logloss:0.183347 | Training accuracy: 0.9253261150733528, Validation accuracy: 0.9181795386158476\n",
    "* With intersect shared features - Training accuracy: 0.9291331573744269, Validation accuracy: 0.9237155669442665 **(LB 0.16562)**\n",
    "* With intersect l2 - [799]\ttrain-logloss:0.174332\teval-logloss:0.188918 | Training accuracy: 0.9275996984332284, Validation accuracy: 0.9224855861627163 **(0.16743 on LB)**\n",
    "* With freq - [799]\ttrain-logloss:0.223248\teval-logloss:0.237988 **(0.21861 on LB)**\n",
    "In [13]:\n",
    "\n",
    "#### interation 1000\n",
    "* **Abhishek + my data + extended 16 + kcores** - [999]\ttrain-logloss:0.14182\teval-logloss:0.162557 | Training accuracy: 0.941806784173409, Validation accuracy: 0.9340422805893658 **LB 0.15059**\n",
    "\n",
    "#### Iteration 1200\n",
    "* (05/28) - **Abhishek + my data** - [1156]\ttrain-logloss:0.14481\teval-logloss:0.168295 | Training accuracy: 0.9414898423517892, Validation accuracy: 0.9321204356181935 | ** LB 0.15814 **\n",
    "* (05/26) -  with enriched data - [1199]\ttrain-logloss:0.160763\teval-logloss:0.179314 | 0.9302726116129169, Validation accuracy: 0.9206619859578736\n",
    "\n",
    "\n",
    "#### iteration 1500\n",
    "* With intersect shared features [1499]\ttrain-logloss:0.155224\teval-logloss:0.180205 | Training accuracy: 0.9359534756379634, Validation accuracy: 0.9265855221012171 **(0.16684)**\n",
    "\n",
    "## Features\n",
    "\n",
    "#### TODO\n",
    "\n",
    "* word share\n",
    "* tfidf_wm_stops\n",
    "* wc_ratio\n",
    "* wc_diff_unique\n",
    "* wc_ratio_unique\n",
    "* common_words\n",
    "* total_unique_words\n",
    "* total_unq_words_stop\n",
    "* wc_diff_unique_stop\n",
    "* wc_ratio_unique_stop\n",
    "* same_start_word\n",
    "* char_ratio\n",
    "* char_diff_unique_stop\n",
    "* tfidf_word_match_share\n",
    "* tfidf_word_match_share_stops\n",
    "\n",
    "* ['tfidf_wm', 'tfidf_wm_stops', 'jaccard', 'wc_diff', 'wc_ratio', 'wc_diff_unique', 'wc_ratio_unique', 'wc_diff_unq_stop', 'wc_ratio_unique_stop', 'same_start', 'char_diff', 'char_diff_unq_stop', 'total_unique_words', 'total_unq_words_stop', 'char_ratio']\n",
    "\n",
    "#### common\n",
    "\n",
    "{'diff_len',\n",
    " 'len_char_q1',\n",
    " 'len_char_q2',\n",
    " 'len_q1',\n",
    " 'len_q2',\n",
    " 'len_word_q1',\n",
    " 'len_word_q2'\n",
    " }\n",
    "\n",
    "#### From Abhishek's features\n",
    "\n",
    "{'braycurtis_distance',\n",
    " 'canberra_distance',\n",
    " 'cityblock_distance',\n",
    " 'common_words',\n",
    " 'cosine_distance',\n",
    " 'euclidean_distance',\n",
    " 'fuzz_WRatio',\n",
    " 'fuzz_partial_ratio',\n",
    " 'fuzz_partial_token_set_ratio',\n",
    " 'fuzz_partial_token_sort_ratio',\n",
    " 'fuzz_qratio',\n",
    " 'fuzz_token_set_ratio',\n",
    " 'fuzz_token_sort_ratio',\n",
    " 'jaccard_distance',\n",
    " 'kur_q1vec',\n",
    " 'minkowski_distance',\n",
    " 'norm_wmd',\n",
    " 'skew_q1vec',\n",
    " 'skew_q2vec',\n",
    " 'wmd'}\n",
    " \n",
    " \n",
    " #### My features\n",
    " ['word_match',\n",
    " 'word_match_2root',\n",
    " 'tfidf_word_match',\n",
    " 'shared_count',\n",
    " 'stops1_ratio',\n",
    " 'stops2_ratio',\n",
    " 'shared_2gram',\n",
    " 'cosine',\n",
    " 'words_hamming',\n",
    " 'diff_stops_r',\n",
    " 'len_q1',\n",
    " 'len_q2',\n",
    " 'diff_len',\n",
    " 'caps_count_q1',\n",
    " 'caps_count_q2',\n",
    " 'diff_caps',\n",
    " 'len_char_q1',\n",
    " 'len_char_q2',\n",
    " 'diff_len_char',\n",
    " 'len_word_q1',\n",
    " 'len_word_q2',\n",
    " 'diff_len_word',\n",
    " 'avg_world_len1',\n",
    " 'avg_world_len2',\n",
    " 'diff_avg_word',\n",
    " 'exactly_same',\n",
    " 'duplicated',\n",
    " 'q1_how',\n",
    " 'q2_how',\n",
    " 'how_both',\n",
    " 'q1_what',\n",
    " 'q2_what',\n",
    " 'what_both',\n",
    " 'q1_which',\n",
    " 'q2_which',\n",
    " 'which_both',\n",
    " 'q1_who',\n",
    " 'q2_who',\n",
    " 'who_both',\n",
    " 'q1_where',\n",
    " 'q2_where',\n",
    " 'where_both',\n",
    " 'q1_when',\n",
    " 'q2_when',\n",
    " 'when_both',\n",
    " 'q1_why',\n",
    " 'q2_why',\n",
    " 'why_both',\n",
    " 'q1_freq',\n",
    " 'q2_freq',\n",
    " 'q_intersect',\n",
    " 'q_intersect_l2',\n",
    " 'q_intersect_tfidf',\n",
    " 'q_intersect_shared_ratio',\n",
    " 'q_intersect_shared_count',\n",
    " 'q_intersect_shared_cosine']"
   ]
  },
  {
   "cell_type": "markdown",
   "metadata": {
    "collapsed": true
   },
   "source": [
    "## Features\n",
    "\n",
    "#### TODO\n",
    "\n",
    "* word share\n",
    "* tfidf_wm_stops\n",
    "* wc_ratio\n",
    "* wc_diff_unique\n",
    "* wc_ratio_unique\n",
    "* common_words\n",
    "* total_unique_words\n",
    "* total_unq_words_stop\n",
    "* wc_diff_unique_stop\n",
    "* wc_ratio_unique_stop\n",
    "* same_start_word\n",
    "* char_ratio\n",
    "* char_diff_unique_stop\n",
    "* tfidf_word_match_share\n",
    "* tfidf_word_match_share_stops\n",
    "\n",
    "* ['tfidf_wm', 'tfidf_wm_stops', 'jaccard', 'wc_diff', 'wc_ratio', 'wc_diff_unique', 'wc_ratio_unique', 'wc_diff_unq_stop', 'wc_ratio_unique_stop', 'same_start', 'char_diff', 'char_diff_unq_stop', 'total_unique_words', 'total_unq_words_stop', 'char_ratio']\n",
    "\n",
    "#### common\n",
    "\n",
    "{'diff_len',\n",
    " 'len_char_q1',\n",
    " 'len_char_q2',\n",
    " 'len_q1',\n",
    " 'len_q2',\n",
    " 'len_word_q1',\n",
    " 'len_word_q2'\n",
    " }\n",
    "\n",
    "#### From Abhishek's features\n",
    "\n",
    "{'braycurtis_distance',\n",
    " 'canberra_distance',\n",
    " 'cityblock_distance',\n",
    " 'common_words',\n",
    " 'cosine_distance',\n",
    " 'euclidean_distance',\n",
    " 'fuzz_WRatio',\n",
    " 'fuzz_partial_ratio',\n",
    " 'fuzz_partial_token_set_ratio',\n",
    " 'fuzz_partial_token_sort_ratio',\n",
    " 'fuzz_qratio',\n",
    " 'fuzz_token_set_ratio',\n",
    " 'fuzz_token_sort_ratio',\n",
    " 'jaccard_distance',\n",
    " 'kur_q1vec',\n",
    " 'minkowski_distance',\n",
    " 'norm_wmd',\n",
    " 'skew_q1vec',\n",
    " 'skew_q2vec',\n",
    " 'wmd'}\n",
    " \n",
    " \n",
    " #### My features\n",
    " ['word_match',\n",
    " 'word_match_2root',\n",
    " 'tfidf_word_match',\n",
    " 'shared_count',\n",
    " 'stops1_ratio',\n",
    " 'stops2_ratio',\n",
    " 'shared_2gram',\n",
    " 'cosine',\n",
    " 'words_hamming',\n",
    " 'diff_stops_r',\n",
    " 'len_q1',\n",
    " 'len_q2',\n",
    " 'diff_len',\n",
    " 'caps_count_q1',\n",
    " 'caps_count_q2',\n",
    " 'diff_caps',\n",
    " 'len_char_q1',\n",
    " 'len_char_q2',\n",
    " 'diff_len_char',\n",
    " 'len_word_q1',\n",
    " 'len_word_q2',\n",
    " 'diff_len_word',\n",
    " 'avg_world_len1',\n",
    " 'avg_world_len2',\n",
    " 'diff_avg_word',\n",
    " 'exactly_same',\n",
    " 'duplicated',\n",
    " 'q1_how',\n",
    " 'q2_how',\n",
    " 'how_both',\n",
    " 'q1_what',\n",
    " 'q2_what',\n",
    " 'what_both',\n",
    " 'q1_which',\n",
    " 'q2_which',\n",
    " 'which_both',\n",
    " 'q1_who',\n",
    " 'q2_who',\n",
    " 'who_both',\n",
    " 'q1_where',\n",
    " 'q2_where',\n",
    " 'where_both',\n",
    " 'q1_when',\n",
    " 'q2_when',\n",
    " 'when_both',\n",
    " 'q1_why',\n",
    " 'q2_why',\n",
    " 'why_both',\n",
    " 'q1_freq',\n",
    " 'q2_freq',\n",
    " 'q_intersect',\n",
    " 'q_intersect_l2',\n",
    " 'q_intersect_tfidf',\n",
    " 'q_intersect_shared_ratio',\n",
    " 'q_intersect_shared_count',\n",
    " 'q_intersect_shared_cosine']"
   ]
  },
  {
   "cell_type": "markdown",
   "metadata": {
    "collapsed": true
   },
   "source": [
    "2/6 - 180"
   ]
  }
 ],
 "metadata": {
  "kernelspec": {
   "display_name": "Python 3",
   "language": "python",
   "name": "python3"
  },
  "language_info": {
   "codemirror_mode": {
    "name": "ipython",
    "version": 3
   },
   "file_extension": ".py",
   "mimetype": "text/x-python",
   "name": "python",
   "nbconvert_exporter": "python",
   "pygments_lexer": "ipython3",
   "version": "3.5.0"
  }
 },
 "nbformat": 4,
 "nbformat_minor": 2
}
